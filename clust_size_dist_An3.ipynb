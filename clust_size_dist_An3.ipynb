{
 "cells": [
  {
   "cell_type": "markdown",
   "metadata": {},
   "source": [
    "<h2>Ananlysis 3. The distribution of the numbers of editing sites per editing cluster</h2>\n",
    "<p>Now, we calculate the numbers of editing sites forming the cluster and compare\n",
    "them with the expected distribution</p>"
   ]
  },
  {
   "cell_type": "code",
   "execution_count": 1,
   "metadata": {},
   "outputs": [],
   "source": [
    "import numpy as np\n",
    "from scipy import stats\n",
    "import matplotlib.pyplot as plt\n",
    "import re\n",
    "import random\n",
    "from editing_adlib import *\n",
    "%matplotlib inline"
   ]
  },
  {
   "cell_type": "code",
   "execution_count": 10,
   "metadata": {},
   "outputs": [],
   "source": [
    "def edcluster_size_dist(edsite_crd_dict):\n",
    "    size_dict = dict()\n",
    "    for seq_id in edsite_crd_dict.keys():\n",
    "        edsite_crds = sorted(edsite_crd_dict[seq_id].keys())\n",
    "        clust_size = 1\n",
    "        for i in range(1, len(edsite_crds)):\n",
    "            if edsite_crds[i] == edsite_crds[i - 1] + 1:\n",
    "                clust_size += 1\n",
    "            else:\n",
    "                if not size_dict.get(clust_size):\n",
    "                    size_dict[clust_size] = 0\n",
    "                size_dict[clust_size] += 1\n",
    "                clust_size = 1\n",
    "        if clust_size > 1:\n",
    "            if not size_dict.get(clust_size):\n",
    "                size_dict[clust_size] = 0\n",
    "            size_dict[clust_size] += 1\n",
    "    return size_dict\n",
    "\n",
    "def mkarr_from_dict(d):\n",
    "    arr1 = [d[i] for i in sorted(d.keys())]\n",
    "    arr2 = []\n",
    "    for i in sorted(d.keys()):\n",
    "        for j in range(d[i]):\n",
    "            arr2.append(i)\n",
    "    return arr1, arr2\n",
    "\n",
    "def build_random_s_dist(fastadict, edsite_crd_dict, orf_crd_dict, syn_nsyn = None):\n",
    "    rand_edsite_crd_dict = dict()\n",
    "    for seq_id in fastadict.keys():\n",
    "        if not edsite_crd_dict.get(seq_id):\n",
    "            continue\n",
    "        rand_edsite_crd_dict[seq_id] = dict()\n",
    "        orf = fastadict[seq_id][orf_crd_dict[seq_id][0]:orf_crd_dict[seq_id][1]]\n",
    "        adenine_pos_arr = [i.start() for i in re.finditer(\"A\", orf)]\n",
    "        pos_num = len(edsite_crd_dict[seq_id].keys())\n",
    "        pos_arr = random.sample(adenine_pos_arr, pos_num)\n",
    "        for i in range(pos_num):\n",
    "            rand_edsite_crd_dict[seq_id][pos_arr[i]] = True\n",
    "#    print(rand_edsite_crd_dict)\n",
    "    return rand_edsite_crd_dict"
   ]
  },
  {
   "cell_type": "code",
   "execution_count": 4,
   "metadata": {},
   "outputs": [],
   "source": [
    "def make_bars(edsites_oct, fastadict, orf_crd_dict, figname_1, figname_2):\n",
    "    arr1, arr2 = mkarr_from_dict(edcluster_size_dist(edsites_oct))\n",
    "    rand_s = build_random_s_dist(fastadict, edsites_oct, orf_crd_dict, syn_nsyn = None)\n",
    "    brr1, brr2 = mkarr_from_dict(edcluster_size_dist(rand_s))\n",
    "    arr = []\n",
    "    for i in range(len(arr1)):\n",
    "        arr.append(arr1[i]*(i+1))\n",
    "    brr = []\n",
    "    for i in range(len(brr1)):\n",
    "        brr.append(brr1[i]*(i+1))\n",
    "    print(np.log10(arr), brr)\n",
    "    for i in range(len(brr),len(arr)):\n",
    "        brr.append(0)\n",
    "    arr = np.array(arr)\n",
    "    brr = np.array(brr)\n",
    "    plt.bar(list(range(1, len(arr) + 1)),height=np.log10(arr + 1))\n",
    "    plt.savefig(figname_1)\n",
    "    plt.show()\n",
    "    plt.bar(list(range(1, len(arr) + 1)),height=np.log10(brr + 1))\n",
    "    plt.savefig(figname_2)\n",
    "    plt.show()"
   ]
  },
  {
   "cell_type": "code",
   "execution_count": 5,
   "metadata": {},
   "outputs": [],
   "source": [
    "edsites_oct = read_edsite_crd_file(\"../data/editing_sites_oct_plus.txt\", syn_nsyn = None)\n",
    "orf_crd_dict_oct = read_orf_crd_file(\"../data/oct_orf_crds.txt\")\n",
    "fastadict_oct = readfasta(\"../data/orfs_oct_plus.fa\")\n",
    "\n",
    "edsites_bim = read_edsite_crd_file(\"../data/editing_sites_bim_plus.txt\", syn_nsyn = None)\n",
    "orf_crd_dict_bim = read_orf_crd_file(\"../data/bim_orf_crds.txt\")\n",
    "fastadict_bim = readfasta(\"../data/orfs_bim_plus.fa\")\n",
    "\n",
    "edsites_sep = read_edsite_crd_file(\"../data/editing_sites_sep_plus.txt\", syn_nsyn = None)\n",
    "orf_crd_dict_sep = read_orf_crd_file(\"../data/sep_orf_crds.txt\")\n",
    "fastadict_sep = readfasta(\"../data/orfs_sep_plus.fa\")\n",
    "\n",
    "edsites_squ = read_edsite_crd_file(\"../data/editing_sites_squ_plus.txt\", syn_nsyn = None)\n",
    "orf_crd_dict_squ = read_orf_crd_file(\"../data/squ_orf_crds.txt\")\n",
    "fastadict_squ = readfasta(\"../data/orfs_squ_plus.fa\")"
   ]
  },
  {
   "cell_type": "code",
   "execution_count": 11,
   "metadata": {
    "scrolled": false
   },
   "outputs": [
    {
     "name": "stdout",
     "output_type": "stream",
     "text": [
      "[4.94230079 4.26245109 3.48742121 2.8739016  2.17609126 1.38021124\n",
      " 0.84509804 0.90308999] [105817, 3414, 96, 8]\n"
     ]
    },
    {
     "data": {
      "image/png": "[encoded data removed]",
      "text/plain": [
       "<Figure size 432x288 with 1 Axes>"
      ]
     },
     "metadata": {
      "needs_background": "light"
     },
     "output_type": "display_data"
    },
    {
     "data": {
      "image/png": "[encoded data removed]",
      "text/plain": [
       "<Figure size 432x288 with 1 Axes>"
      ]
     },
     "metadata": {
      "needs_background": "light"
     },
     "output_type": "display_data"
    },
    {
     "name": "stdout",
     "output_type": "stream",
     "text": [
      "[4.74491073 4.06415837 3.27989498 2.66651798 2.11394335 1.38021124] [67272, 1842, 84, 4]\n"
     ]
    },
    {
     "data": {
      "image/png": "[encoded data removed]",
      "text/plain": [
       "<Figure size 432x288 with 1 Axes>"
      ]
     },
     "metadata": {
      "needs_background": "light"
     },
     "output_type": "display_data"
    },
    {
     "data": {
      "image/png": "[encoded data removed]",
      "text/plain": [
       "<Figure size 432x288 with 1 Axes>"
      ]
     },
     "metadata": {
      "needs_background": "light"
     },
     "output_type": "display_data"
    },
    {
     "name": "stdout",
     "output_type": "stream",
     "text": [
      "[4.98099362 4.3249817  3.60292771 2.95230801 2.21748394 1.38021124\n",
      " 0.84509804 0.90308999] [116339, 4720, 276, 24]\n"
     ]
    },
    {
     "data": {
      "image/png": "[encoded data removed]",
      "text/plain": [
       "<Figure size 432x288 with 1 Axes>"
      ]
     },
     "metadata": {
      "needs_background": "light"
     },
     "output_type": "display_data"
    },
    {
     "data": {
      "image/png": "[encoded data removed]",
      "text/plain": [
       "<Figure size 432x288 with 1 Axes>"
      ]
     },
     "metadata": {
      "needs_background": "light"
     },
     "output_type": "display_data"
    },
    {
     "name": "stdout",
     "output_type": "stream",
     "text": [
      "[4.7678235  4.14736711 3.43232779 2.79518459 2.07918125 0.77815125] [72959, 2452, 123, 8]\n"
     ]
    },
    {
     "data": {
      "image/png": "[encoded data removed]",
      "text/plain": [
       "<Figure size 432x288 with 1 Axes>"
      ]
     },
     "metadata": {
      "needs_background": "light"
     },
     "output_type": "display_data"
    },
    {
     "data": {
      "image/png": "[encoded data removed]",
      "text/plain": [
       "<Figure size 432x288 with 1 Axes>"
      ]
     },
     "metadata": {
      "needs_background": "light"
     },
     "output_type": "display_data"
    }
   ],
   "source": [
    "make_bars(edsites_oct, \n",
    "          fastadict_oct, \n",
    "          orf_crd_dict_oct, \n",
    "          \"../article/suppl_figures/An3_clust_sizes/oct_real.pdf\", \n",
    "          \"../article/suppl_figures/An3_clust_sizes/oct_expd.pdf\")\n",
    "\n",
    "make_bars(edsites_bim, \n",
    "          fastadict_bim, \n",
    "          orf_crd_dict_bim, \n",
    "          \"../article/suppl_figures/An3_clust_sizes/bim_real.pdf\", \n",
    "          \"../article/suppl_figures/An3_clust_sizes/bim_expd.pdf\")\n",
    "\n",
    "make_bars(edsites_sep, \n",
    "          fastadict_sep, \n",
    "          orf_crd_dict_sep, \n",
    "          \"../article/suppl_figures/An3_clust_sizes/sep_real.pdf\", \n",
    "          \"../article/suppl_figures/An3_clust_sizes/sep_expd.pdf\")\n",
    "\n",
    "make_bars(edsites_squ, \n",
    "          fastadict_squ, \n",
    "          orf_crd_dict_squ, \n",
    "          \"../article/suppl_figures/An3_clust_sizes/squ_real.pdf\", \n",
    "          \"../article/suppl_figures/An3_clust_sizes/squ_expd.pdf\")"
   ]
  },
  {
   "cell_type": "code",
   "execution_count": null,
   "metadata": {},
   "outputs": [],
   "source": []
  }
 ],
 "metadata": {
  "kernelspec": {
   "display_name": "Python 3",
   "language": "python",
   "name": "python3"
  },
  "language_info": {
   "codemirror_mode": {
    "name": "ipython",
    "version": 3
   },
   "file_extension": ".py",
   "mimetype": "text/x-python",
   "name": "python",
   "nbconvert_exporter": "python",
   "pygments_lexer": "ipython3",
   "version": "3.7.7"
  }
 },
 "nbformat": 4,
 "nbformat_minor": 4
}
