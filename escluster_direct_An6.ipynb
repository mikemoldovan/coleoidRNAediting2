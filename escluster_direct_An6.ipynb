{
 "cells": [
  {
   "cell_type": "markdown",
   "metadata": {},
   "source": [
    "<h2>Analysis 6. Directionality of editing site clusters</h2>\n",
    "<p>We assesed whether there is directionality to the editing site clusters in the sense of higher EL of the upstream/downstream editing site in the clusters of two editing sites</p>"
   ]
  },
  {
   "cell_type": "code",
   "execution_count": 2,
   "metadata": {},
   "outputs": [],
   "source": [
    "import numpy as np\n",
    "from scipy import stats\n",
    "from editing_adlib import *\n",
    "import matplotlib.pyplot as plt\n",
    "%matplotlib inline"
   ]
  },
  {
   "cell_type": "code",
   "execution_count": 3,
   "metadata": {},
   "outputs": [],
   "source": [
    "def edclust_direct(edsite_crd_dict, orf_crd_dict, size_two=True):\n",
    "    diff_dist = [[],[],[]]\n",
    "    for gene_id in edsite_crd_dict.keys():\n",
    "        orfstart = orf_crd_dict[gene_id][0]\n",
    "        for crd in edsite_crd_dict[gene_id].keys():\n",
    "            if edsite_crd_dict[gene_id].get(crd + 1):\n",
    "                if size_two and \\\n",
    "                (edsite_crd_dict[gene_id].get(crd + 2) or \\\n",
    "                edsite_crd_dict[gene_id].get(crd - 1)):\n",
    "                    continue\n",
    "                frame = (crd - orfstart)%3\n",
    "                val_left = eval(edsite_crd_dict[gene_id][crd][7])\n",
    "                val_right = eval(edsite_crd_dict[gene_id][crd + 1][7])\n",
    "                diff_dist[frame].append(val_left - val_right)\n",
    "    \n",
    "    for frame in range(3):\n",
    "    \n",
    "        diff_dist[frame] = np.array(diff_dist[frame])\n",
    "        \n",
    "        mean_diff = round(np.mean(diff_dist[frame]), 6)\n",
    "        std_diff = round(np.std(diff_dist[frame]), 6)\n",
    "        \n",
    "        t, p = stats.wilcoxon(diff_dist[frame])\n",
    "        \n",
    "        print(\"{}\\t{}\\t{}\\t{}\".format(frame, mean_diff, std_diff, p))\n",
    "    return diff_dist"
   ]
  },
  {
   "cell_type": "code",
   "execution_count": 5,
   "metadata": {},
   "outputs": [
    {
     "name": "stdout",
     "output_type": "stream",
     "text": [
      "0\t-4.768262\t19.124919\t8.51660880978413e-39\n",
      "1\t-3.999935\t21.982675\t3.209465149036477e-36\n",
      "2\t-2.304557\t14.914374\t4.77506404293694e-43\n",
      "0\t-6.025283\t19.800549\t1.2388261478476222e-34\n",
      "1\t-4.500378\t23.168436\t9.375512907982424e-29\n",
      "2\t-2.120751\t15.910338\t7.852544809267939e-23\n",
      "0\t-4.159304\t17.610217\t1.151723873215292e-31\n",
      "1\t-4.463292\t20.877688\t1.3851897254534802e-62\n",
      "2\t-2.3173\t15.131737\t1.6998139187919555e-51\n",
      "0\t-9.080649\t26.138276\t1.276806331118097e-47\n",
      "1\t-6.432352\t30.34241\t1.7416810240375073e-39\n",
      "2\t-2.298938\t24.855387\t3.143584732127131e-19\n"
     ]
    }
   ],
   "source": [
    "orf_crd_dict_oct = read_orf_crd_file(\"../data/oct_orf_crds.txt\")\n",
    "orf_crd_dict_bim = read_orf_crd_file(\"../data/bim_orf_crds.txt\")\n",
    "orf_crd_dict_sep = read_orf_crd_file(\"../data/sep_orf_crds.txt\")\n",
    "orf_crd_dict_squ = read_orf_crd_file(\"../data/squ_orf_crds.txt\")\n",
    "\n",
    "edsites_oct = read_edsite_crd_file(\"../data/editing_sites_oct_plus.txt\", syn_nsyn = None)\n",
    "edsites_bim = read_edsite_crd_file(\"../data/editing_sites_bim_plus.txt\", syn_nsyn = None)\n",
    "edsites_sep = read_edsite_crd_file(\"../data/editing_sites_sep_plus.txt\", syn_nsyn = None)\n",
    "edsites_squ = read_edsite_crd_file(\"../data/editing_sites_squ_plus.txt\", syn_nsyn = None)\n",
    "\n",
    "diff_dist_oct = edclust_direct(edsites_oct, orf_crd_dict_oct)\n",
    "diff_dist_bim = edclust_direct(edsites_bim, orf_crd_dict_bim)\n",
    "diff_dist_sep = edclust_direct(edsites_sep, orf_crd_dict_sep)\n",
    "diff_dist_squ = edclust_direct(edsites_squ, orf_crd_dict_squ)"
   ]
  },
  {
   "cell_type": "code",
   "execution_count": 6,
   "metadata": {},
   "outputs": [
    {
     "name": "stdout",
     "output_type": "stream",
     "text": [
      "0\t-4.768262\t19.124919\t8.51660880978413e-39\n",
      "1\t-3.999935\t21.982675\t3.209465149036477e-36\n",
      "2\t-2.304557\t14.914374\t4.77506404293694e-43\n"
     ]
    },
    {
     "data": {
      "image/png": "[encoded data removed]",
      "text/plain": [
       "<Figure size 432x288 with 1 Axes>"
      ]
     },
     "metadata": {
      "needs_background": "light"
     },
     "output_type": "display_data"
    }
   ],
   "source": [
    "orf_crd_dict = read_orf_crd_file(\"../data/oct_orf_crds.txt\")\n",
    "diff_dist_oct = edclust_direct(edsites_oct, orf_crd_dict)\n",
    "plt.boxplot(diff_dist_oct, 0, '', whis = [5,95], showmeans=True)\n",
    "plt.savefig(\"../article/main_figures/fig3/EL_direct.pdf\")\n",
    "plt.show()"
   ]
  },
  {
   "cell_type": "code",
   "execution_count": 11,
   "metadata": {},
   "outputs": [
    {
     "name": "stdout",
     "output_type": "stream",
     "text": [
      "oct\n"
     ]
    },
    {
     "data": {
      "image/png": "[encoded data removed]",
      "text/plain": [
       "<Figure size 432x288 with 1 Axes>"
      ]
     },
     "metadata": {
      "needs_background": "light"
     },
     "output_type": "display_data"
    },
    {
     "name": "stdout",
     "output_type": "stream",
     "text": [
      "bim\n"
     ]
    },
    {
     "data": {
      "image/png": "[encoded data removed]",
      "text/plain": [
       "<Figure size 432x288 with 1 Axes>"
      ]
     },
     "metadata": {
      "needs_background": "light"
     },
     "output_type": "display_data"
    },
    {
     "name": "stdout",
     "output_type": "stream",
     "text": [
      "sep\n"
     ]
    },
    {
     "data": {
      "image/png": "[encoded data removed]",
      "text/plain": [
       "<Figure size 432x288 with 1 Axes>"
      ]
     },
     "metadata": {
      "needs_background": "light"
     },
     "output_type": "display_data"
    },
    {
     "name": "stdout",
     "output_type": "stream",
     "text": [
      "squ\n"
     ]
    },
    {
     "data": {
      "image/png": "[encoded data removed]",
      "text/plain": [
       "<Figure size 432x288 with 1 Axes>"
      ]
     },
     "metadata": {
      "needs_background": "light"
     },
     "output_type": "display_data"
    }
   ],
   "source": [
    "list_vals = [diff_dist_oct, \\\n",
    "             diff_dist_bim, \\\n",
    "             diff_dist_sep, \\\n",
    "             diff_dist_squ]\n",
    "\n",
    "spec_arr = [\"oct\",\"bim\",\"sep\",\"squ\"]\n",
    "\n",
    "c = 0\n",
    "for diff_dist in list_vals:\n",
    "    print(spec_arr[c])\n",
    "    plt.boxplot(diff_dist, 0, '', whis = [5,95], showmeans=True)\n",
    "    plt.savefig(f\"../article/suppl_figures/An6_edclust_dir/EL_direct_{spec_arr[c]}.pdf\")\n",
    "    plt.show()\n",
    "    c += 1"
   ]
  },
  {
   "cell_type": "code",
   "execution_count": null,
   "metadata": {},
   "outputs": [],
   "source": []
  }
 ],
 "metadata": {
  "kernelspec": {
   "display_name": "Python 3",
   "language": "python",
   "name": "python3"
  },
  "language_info": {
   "codemirror_mode": {
    "name": "ipython",
    "version": 3
   },
   "file_extension": ".py",
   "mimetype": "text/x-python",
   "name": "python",
   "nbconvert_exporter": "python",
   "pygments_lexer": "ipython3",
   "version": "3.7.7"
  }
 },
 "nbformat": 4,
 "nbformat_minor": 4
}
